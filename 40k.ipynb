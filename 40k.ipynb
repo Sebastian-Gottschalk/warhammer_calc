{
 "cells": [
  {
   "cell_type": "code",
   "execution_count": 60,
   "id": "da4596e0",
   "metadata": {},
   "outputs": [],
   "source": [
    "import numpy as np\n",
    "from scipy.stats import binom, multinomial\n",
    "import streamlit as st"
   ]
  },
  {
   "cell_type": "code",
   "execution_count": 115,
   "id": "25acd8f0",
   "metadata": {},
   "outputs": [],
   "source": [
    "def single_roll(n, thresh):\n",
    "    '''\n",
    "    calculates the distribution of a single roll with n dice, with everything >= thresh being a sucess and every 6 being a crit\n",
    "    the resulting matrix has the form\n",
    "    [p_00 p_01 p_02...\n",
    "     p_10 p_11 p_12...\n",
    "     ... \n",
    "    ]\n",
    "    where p_ij is the probability of i hits and j crits\n",
    "    (where of course p_ij = 0 if i+j>n)\n",
    "    '''\n",
    "    results = np.zeros((n+1,n+1))\n",
    "    p_crit = 1/6\n",
    "    p_hit = (6-thresh)/6\n",
    "    p = [p_hit,p_crit,1-p_hit-p_crit]\n",
    "    for i in range(n+1):\n",
    "        for j in range(n+1-i):\n",
    "            results[i,j] = multinomial.pmf([i,j,n-i-j], n=n, p=p)\n",
    "    return results\n",
    "\n",
    "def roll(distr, thresh):\n",
    "    '''\n",
    "    distr is a list e.g. [0.25,0.5,0.25] meaning\n",
    "    25% chance of n=0\n",
    "    50% chance of n=1\n",
    "    25% chance of n=2\n",
    "    For each possible n-value we calculate the probability distribution of a roll with n dice, padding the result to a uniform size and taking the weighted average of all of them\n",
    "    using the values from distr as weights\n",
    "    '''\n",
    "    max_n = len(distr)\n",
    "    resulting_distr = np.zeros((max_n,max_n))\n",
    "    for n, prob in enumerate(distr):\n",
    "        n_distr = single_roll(n,thresh)\n",
    "        n_distr = np.pad(n_distr,(0,max_n-n-1), mode=\"constant\", constant_values=0)\n",
    "        resulting_distr += prob * n_distr\n",
    "    return resulting_distr\n",
    "\n",
    "\n",
    "def get_amount_of_hits(distr):\n",
    "    '''\n",
    "    calculates a 1-d distribution of the amount of successes given the matrix of hits and crits\n",
    "    here hits and crits are treated the same, so no extra rules implemented yet\n",
    "    '''\n",
    "    n = distr.shape[0]\n",
    "    resulting_distr = [0]*n\n",
    "    for i in range(n):\n",
    "        for j in range(i+1):\n",
    "            resulting_distr[i] += distr[j,i-j]\n",
    "    return resulting_distr\n",
    "\n"
   ]
  },
  {
   "cell_type": "code",
   "execution_count": null,
   "id": "0fabf4a8",
   "metadata": {},
   "outputs": [],
   "source": []
  },
  {
   "cell_type": "code",
   "execution_count": 116,
   "id": "de98b6b7",
   "metadata": {},
   "outputs": [
    {
     "data": {
      "text/plain": [
       "[0.5, 0.375, 0.125]"
      ]
     },
     "execution_count": 116,
     "metadata": {},
     "output_type": "execute_result"
    }
   ],
   "source": [
    "test = roll([0.25,0.25,0.5],4)\n",
    "get_amount_of_hits(test)"
   ]
  }
 ],
 "metadata": {
  "kernelspec": {
   "display_name": "base",
   "language": "python",
   "name": "python3"
  },
  "language_info": {
   "codemirror_mode": {
    "name": "ipython",
    "version": 3
   },
   "file_extension": ".py",
   "mimetype": "text/x-python",
   "name": "python",
   "nbconvert_exporter": "python",
   "pygments_lexer": "ipython3",
   "version": "3.12.3"
  }
 },
 "nbformat": 4,
 "nbformat_minor": 5
}
